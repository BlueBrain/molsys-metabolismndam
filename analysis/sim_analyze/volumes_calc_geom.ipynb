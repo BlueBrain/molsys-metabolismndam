{
 "cells": [
  {
   "cell_type": "code",
   "execution_count": 1,
   "metadata": {},
   "outputs": [],
   "source": [
    "from bluepy.v2 import Cell, Circuit, Simulation\n",
    "\n",
    "import pandas as pd\n",
    "\n",
    "import numpy as np\n",
    "\n",
    "import matplotlib.pyplot as plt "
   ]
  },
  {
   "cell_type": "code",
   "execution_count": 2,
   "metadata": {},
   "outputs": [],
   "source": [
    "c = Circuit('/gpfs/bbp.cscs.ch/project/proj64/circuits/O1.v6a/20181207/CircuitConfig')\n",
    "mc2_cells = c.cells.get({'$target': 'mc2_Column'}, properties=[Cell.X, Cell.Y, Cell.Z,Cell.SYNAPSE_CLASS,Cell.ETYPE,Cell.MTYPE,Cell.ME_COMBO,Cell.LAYER,Cell.MORPH_CLASS])\n"
   ]
  },
  {
   "cell_type": "code",
   "execution_count": 3,
   "metadata": {},
   "outputs": [
    {
     "name": "stderr",
     "output_type": "stream",
     "text": [
      "/gpfs/bbp.cscs.ch/project/proj34/sh_ngvm/jupyter_py_venv_ood/lib/python3.7/site-packages/ipykernel_launcher.py:5: ParserWarning: Falling back to the 'python' engine because the 'c' engine does not support regex separators (separators > 1 char and different from '\\s+' are interpreted as regex); you can avoid this warning by specifying engine='python'.\n",
      "  \"\"\"\n"
     ]
    }
   ],
   "source": [
    "# volumes\n",
    "#with hasattr Na...\n",
    "#vols = pd.read_csv(\"/gpfs/bbp.cscs.ch/project/proj34/sh_ngvm/column/cells_volume_calc/volumes_2020113012.txt\",sep='\\,\\s',header=None)\n",
    "#no hasattr (all sections and segments)\n",
    "vols = pd.read_csv(\"/gpfs/bbp.cscs.ch/project/proj34/sh_ngvm/column/cells_volume_calc/volumes_2020121415.txt\",sep='\\,\\s',header=None)\n",
    "\n",
    "vols.columns = ['c_gid','rank','cells_volumes_um3','cells_areas']\n",
    "vols['c_gid'] = vols['c_gid'].astype(int)"
   ]
  },
  {
   "cell_type": "code",
   "execution_count": 4,
   "metadata": {},
   "outputs": [],
   "source": [
    "vols = vols.drop_duplicates(keep='first')"
   ]
  },
  {
   "cell_type": "code",
   "execution_count": 5,
   "metadata": {},
   "outputs": [
    {
     "data": {
      "text/plain": [
       "22918"
      ]
     },
     "execution_count": 5,
     "metadata": {},
     "output_type": "execute_result"
    }
   ],
   "source": [
    "len(vols['c_gid'].unique())"
   ]
  },
  {
   "cell_type": "code",
   "execution_count": 6,
   "metadata": {},
   "outputs": [
    {
     "data": {
      "text/plain": [
       "22918"
      ]
     },
     "execution_count": 6,
     "metadata": {},
     "output_type": "execute_result"
    }
   ],
   "source": [
    "len(vols['c_gid'])"
   ]
  },
  {
   "cell_type": "code",
   "execution_count": 7,
   "metadata": {},
   "outputs": [],
   "source": [
    "vols.index = vols['c_gid']\n",
    "\n",
    "vols_coords = pd.merge(mc2_cells, vols, left_index=True,right_index=True, how='inner')\n",
    "\n",
    "\n",
    "y_min_L1 = vols_coords.loc[vols_coords['layer']==1,'y'].min() \n",
    "y_max_L1 = vols_coords.loc[vols_coords['layer']==1,'y'].max()\n",
    "\n",
    "y_min_L2 = vols_coords.loc[vols_coords['layer']==2,'y'].min() \n",
    "y_max_L2 = vols_coords.loc[vols_coords['layer']==2,'y'].max()\n",
    "\n",
    "y_min_L3 = vols_coords.loc[vols_coords['layer']==3,'y'].min() \n",
    "y_max_L3 = vols_coords.loc[vols_coords['layer']==3,'y'].max()\n",
    "\n",
    "y_min_L4 = vols_coords.loc[vols_coords['layer']==4,'y'].min() \n",
    "y_max_L4 = vols_coords.loc[vols_coords['layer']==4,'y'].max()\n",
    "\n",
    "y_min_L5 = vols_coords.loc[vols_coords['layer']==5,'y'].min() \n",
    "y_max_L5 = vols_coords.loc[vols_coords['layer']==5,'y'].max()\n",
    "\n",
    "y_min_L6 = vols_coords.loc[vols_coords['layer']==6,'y'].min() \n",
    "y_max_L6 = vols_coords.loc[vols_coords['layer']==6,'y'].max()\n",
    "\n",
    "###\n",
    "\n",
    "x_min_L1 = vols_coords.loc[vols_coords['layer']==1,'x'].min() \n",
    "x_max_L1 = vols_coords.loc[vols_coords['layer']==1,'x'].max()\n",
    "\n",
    "x_min_L2 = vols_coords.loc[vols_coords['layer']==2,'x'].min() \n",
    "x_max_L2 = vols_coords.loc[vols_coords['layer']==2,'x'].max()\n",
    "\n",
    "x_min_L3 = vols_coords.loc[vols_coords['layer']==3,'x'].min() \n",
    "x_max_L3 = vols_coords.loc[vols_coords['layer']==3,'x'].max()\n",
    "\n",
    "x_min_L4 = vols_coords.loc[vols_coords['layer']==4,'x'].min() \n",
    "x_max_L4 = vols_coords.loc[vols_coords['layer']==4,'x'].max()\n",
    "\n",
    "x_min_L5 = vols_coords.loc[vols_coords['layer']==5,'x'].min() \n",
    "x_max_L5 = vols_coords.loc[vols_coords['layer']==5,'x'].max()\n",
    "\n",
    "x_min_L6 = vols_coords.loc[vols_coords['layer']==6,'x'].min() \n",
    "x_max_L6 = vols_coords.loc[vols_coords['layer']==6,'x'].max()\n",
    "\n",
    "###\n",
    "\n",
    "z_min_L1 = vols_coords.loc[vols_coords['layer']==1,'z'].min() \n",
    "z_max_L1 = vols_coords.loc[vols_coords['layer']==1,'z'].max()\n",
    "\n",
    "z_min_L2 = vols_coords.loc[vols_coords['layer']==2,'z'].min() \n",
    "z_max_L2 = vols_coords.loc[vols_coords['layer']==2,'z'].max()\n",
    "\n",
    "z_min_L3 = vols_coords.loc[vols_coords['layer']==3,'z'].min() \n",
    "z_max_L3 = vols_coords.loc[vols_coords['layer']==3,'z'].max()\n",
    "\n",
    "z_min_L4 = vols_coords.loc[vols_coords['layer']==4,'z'].min() \n",
    "z_max_L4 = vols_coords.loc[vols_coords['layer']==4,'z'].max()\n",
    "\n",
    "z_min_L5 = vols_coords.loc[vols_coords['layer']==5,'z'].min() \n",
    "z_max_L5 = vols_coords.loc[vols_coords['layer']==5,'z'].max()\n",
    "\n",
    "z_min_L6 = vols_coords.loc[vols_coords['layer']==6,'z'].min() \n",
    "z_max_L6 = vols_coords.loc[vols_coords['layer']==6,'z'].max()\n",
    "\n",
    "x_min_allL = vols_coords['x'].min()\n",
    "x_max_allL = vols_coords['x'].max()\n",
    "\n",
    "z_min_allL = vols_coords['z'].min()\n",
    "z_max_allL = vols_coords['z'].max()\n",
    "\n",
    "\n",
    "\n",
    "average_a = ((x_max_allL-x_min_allL)+(z_max_allL-z_min_allL))/2  # the side\n",
    "\n",
    "vol_1 = 3*np.sqrt(3)/2*(average_a**2)*(y_max_L1-y_min_L1) # the volume\n",
    "\n",
    "average_a = ((x_max_allL-x_min_allL)+(z_max_allL-z_min_allL))/2\n",
    "\n",
    "vol_1 = 3*np.sqrt(3)/2*(average_a**2)*(y_max_L1-y_min_L1)\n",
    "vol_2 = 3*np.sqrt(3)/2*(average_a**2)*(y_max_L2-y_min_L2)\n",
    "vol_3 = 3*np.sqrt(3)/2*(average_a**2)*(y_max_L3-y_min_L3)\n",
    "vol_4 = 3*np.sqrt(3)/2*(average_a**2)*(y_max_L4-y_min_L4)\n",
    "vol_5 = 3*np.sqrt(3)/2*(average_a**2)*(y_max_L5-y_min_L5)\n",
    "vol_6 = 3*np.sqrt(3)/2*(average_a**2)*(y_max_L6-y_min_L6)"
   ]
  },
  {
   "cell_type": "code",
   "execution_count": 8,
   "metadata": {},
   "outputs": [],
   "source": [
    "sum_vol_1 = np.sum(vols_coords.loc[vols_coords['layer']==1,'cells_volumes_um3'])\n",
    "sum_vol_2 = np.sum(vols_coords.loc[vols_coords['layer']==2,'cells_volumes_um3'])\n",
    "sum_vol_3 = np.sum(vols_coords.loc[vols_coords['layer']==3,'cells_volumes_um3'])\n",
    "sum_vol_4 = np.sum(vols_coords.loc[vols_coords['layer']==4,'cells_volumes_um3'])\n",
    "sum_vol_5 = np.sum(vols_coords.loc[vols_coords['layer']==5,'cells_volumes_um3'])\n",
    "sum_vol_6 = np.sum(vols_coords.loc[vols_coords['layer']==6,'cells_volumes_um3'])"
   ]
  },
  {
   "cell_type": "code",
   "execution_count": 9,
   "metadata": {},
   "outputs": [
    {
     "data": {
      "text/plain": [
       "0.1615309291230775"
      ]
     },
     "execution_count": 9,
     "metadata": {},
     "output_type": "execute_result"
    }
   ],
   "source": [
    "(sum_vol_1 + sum_vol_2 + sum_vol_3 + sum_vol_4 + sum_vol_5 + sum_vol_6)* 1e-9 # mm3"
   ]
  },
  {
   "cell_type": "code",
   "execution_count": 11,
   "metadata": {},
   "outputs": [
    {
     "data": {
      "text/html": [
       "<div>\n",
       "<style scoped>\n",
       "    .dataframe tbody tr th:only-of-type {\n",
       "        vertical-align: middle;\n",
       "    }\n",
       "\n",
       "    .dataframe tbody tr th {\n",
       "        vertical-align: top;\n",
       "    }\n",
       "\n",
       "    .dataframe thead th {\n",
       "        text-align: right;\n",
       "    }\n",
       "</style>\n",
       "<table border=\"1\" class=\"dataframe\">\n",
       "  <thead>\n",
       "    <tr style=\"text-align: right;\">\n",
       "      <th></th>\n",
       "      <th>layer</th>\n",
       "      <th>percent</th>\n",
       "    </tr>\n",
       "  </thead>\n",
       "  <tbody>\n",
       "    <tr>\n",
       "      <th>0</th>\n",
       "      <td>1.0</td>\n",
       "      <td>93.23</td>\n",
       "    </tr>\n",
       "    <tr>\n",
       "      <th>1</th>\n",
       "      <td>2.0</td>\n",
       "      <td>77.39</td>\n",
       "    </tr>\n",
       "    <tr>\n",
       "      <th>2</th>\n",
       "      <td>3.0</td>\n",
       "      <td>80.12</td>\n",
       "    </tr>\n",
       "    <tr>\n",
       "      <th>3</th>\n",
       "      <td>4.0</td>\n",
       "      <td>78.10</td>\n",
       "    </tr>\n",
       "    <tr>\n",
       "      <th>4</th>\n",
       "      <td>5.0</td>\n",
       "      <td>80.52</td>\n",
       "    </tr>\n",
       "    <tr>\n",
       "      <th>5</th>\n",
       "      <td>6.0</td>\n",
       "      <td>79.10</td>\n",
       "    </tr>\n",
       "  </tbody>\n",
       "</table>\n",
       "</div>"
      ],
      "text/plain": [
       "   layer  percent\n",
       "0    1.0    93.23\n",
       "1    2.0    77.39\n",
       "2    3.0    80.12\n",
       "3    4.0    78.10\n",
       "4    5.0    80.52\n",
       "5    6.0    79.10"
      ]
     },
     "execution_count": 11,
     "metadata": {},
     "output_type": "execute_result"
    }
   ],
   "source": [
    "santuy = pd.DataFrame(columns=['layer','percent'])\n",
    "santuy = santuy.append({'layer':1,'percent':93.23}, ignore_index=True)\n",
    "santuy = santuy.append({'layer':2,'percent':77.39}, ignore_index=True)\n",
    "santuy = santuy.append({'layer':3,'percent':80.12}, ignore_index=True)\n",
    "santuy = santuy.append({'layer':4,'percent':78.10}, ignore_index=True)\n",
    "santuy = santuy.append({'layer':5,'percent':80.52}, ignore_index=True)\n",
    "santuy = santuy.append({'layer':6,'percent':79.10}, ignore_index=True)\n",
    "santuy\n"
   ]
  },
  {
   "cell_type": "code",
   "execution_count": 12,
   "metadata": {},
   "outputs": [],
   "source": [
    "vols_coords_sum = pd.DataFrame(columns=['layer','sum_volume_um3'])\n",
    "\n",
    "vols_coords_sum = vols_coords_sum.append({'layer':1,'sum_volume_um3':sum_vol_1}, ignore_index=True)\n",
    "vols_coords_sum = vols_coords_sum.append({'layer':2,'sum_volume_um3':sum_vol_2}, ignore_index=True)\n",
    "vols_coords_sum = vols_coords_sum.append({'layer':3,'sum_volume_um3':sum_vol_3}, ignore_index=True)\n",
    "vols_coords_sum = vols_coords_sum.append({'layer':4,'sum_volume_um3':sum_vol_4}, ignore_index=True)\n",
    "vols_coords_sum = vols_coords_sum.append({'layer':5,'sum_volume_um3':sum_vol_5}, ignore_index=True)\n",
    "vols_coords_sum = vols_coords_sum.append({'layer':6,'sum_volume_um3':sum_vol_6}, ignore_index=True)\n",
    "\n",
    "santuy_y = pd.merge(santuy,vols_coords_sum,left_on='layer',right_on='layer',how='inner')\n",
    "\n",
    "santuy_y['cells_volumes_percent'] = None\n",
    "\n",
    "santuy_y.loc[santuy_y['layer']==1,'cells_volumes_percent'] = 100*santuy_y.loc[santuy_y['layer']==1,'sum_volume_um3']/vol_1\n",
    "santuy_y.loc[santuy_y['layer']==2,'cells_volumes_percent'] = 100*santuy_y.loc[santuy_y['layer']==2,'sum_volume_um3']/vol_2\n",
    "santuy_y.loc[santuy_y['layer']==3,'cells_volumes_percent'] = 100*santuy_y.loc[santuy_y['layer']==3,'sum_volume_um3']/vol_3\n",
    "santuy_y.loc[santuy_y['layer']==4,'cells_volumes_percent'] = 100*santuy_y.loc[santuy_y['layer']==4,'sum_volume_um3']/vol_4\n",
    "santuy_y.loc[santuy_y['layer']==5,'cells_volumes_percent'] = 100*santuy_y.loc[santuy_y['layer']==5,'sum_volume_um3']/vol_5\n",
    "santuy_y.loc[santuy_y['layer']==6,'cells_volumes_percent'] = 100*santuy_y.loc[santuy_y['layer']==6,'sum_volume_um3']/vol_6\n",
    "\n",
    "\n",
    "santuy_y['y'] = None\n",
    "\n",
    "santuy_y.loc[santuy_y['layer']==1,'y'] = 1\n",
    "santuy_y.loc[santuy_y['layer']==2,'y'] = 2\n",
    "santuy_y.loc[santuy_y['layer']==3,'y'] = 3\n",
    "santuy_y.loc[santuy_y['layer']==4,'y'] = 4\n",
    "santuy_y.loc[santuy_y['layer']==5,'y'] = 5\n",
    "santuy_y.loc[santuy_y['layer']==6,'y'] = 6\n"
   ]
  },
  {
   "cell_type": "code",
   "execution_count": 14,
   "metadata": {},
   "outputs": [
    {
     "data": {
      "image/png": "[encoded data removed]",
      "text/plain": [
       "<Figure size 432x576 with 2 Axes>"
      ]
     },
     "metadata": {
      "needs_background": "light"
     },
     "output_type": "display_data"
    }
   ],
   "source": [
    "fig = plt.figure(figsize=(6, 8))\n",
    "\n",
    "\n",
    "vmin=np.min(santuy_y['layer'].tolist())-1 #+ l5mc_feat_mean['with_met_ATP_n'].tolist())\n",
    "vmax=np.max(santuy_y['layer'].tolist())+1 # + l5mc_feat_mean['with_met_ATP_n'].tolist())\n",
    "\n",
    "\n",
    "#fig, ax = plt.subplots(figsize=(6, 8))\n",
    "\n",
    "x_min = np.min(santuy_y['cells_volumes_percent'].tolist() + santuy_y['percent'].tolist() ) #mc2_cells[Cell.X].max()\n",
    "x_max = np.max(santuy_y['cells_volumes_percent'].tolist() + santuy_y['percent'].tolist() ) #mc2_cells[Cell.X].min()\n",
    "\n",
    "y_min = santuy_y['y'].min() \n",
    "y_max = santuy_y['y'].max()\n",
    "\n",
    "#L1min = np.min(santuy_y.loc[santuy_y['layer']==1,'y'])\n",
    "#L1max = np.max(santuy_y.loc[santuy_y['layer']==1,'y'])\n",
    "\n",
    "#L2min = np.min(santuy_y.loc[santuy_y['layer']==2,'y'])\n",
    "#L2max = np.max(santuy_y.loc[santuy_y['layer']==2,'y'])\n",
    "\n",
    "#L3min = np.min(santuy_y.loc[santuy_y['layer']==3,'y'])\n",
    "#L3max = np.max(santuy_y.loc[santuy_y['layer']==3,'y'])\n",
    "\n",
    "#L4min = np.min(santuy_y.loc[santuy_y['layer']==4,'y'])\n",
    "#L4max = np.max(santuy_y.loc[santuy_y['layer']==4,'y'])\n",
    "\n",
    "#L5min = np.min(santuy_y.loc[santuy_y['layer']==5,'y'])\n",
    "#L5max = np.max(santuy_y.loc[santuy_y['layer']==5,'y'])\n",
    "\n",
    "#L6min = np.min(santuy_y.loc[santuy_y['layer']==6,'y'])\n",
    "#L6max = np.max(santuy_y.loc[santuy_y['layer']==6,'y'])\n",
    "\n",
    "#ax1 = plt.axhspan(L1min,L1max, color='#e5e5e5', label='L1', alpha=0.5,lw=0,zorder = 0)\n",
    "#ax2 = plt.axhspan(L2min,L2max, color='#d8d8d8', label='L2', alpha=0.5,lw=0,zorder = 0)\n",
    "#ax3 = plt.axhspan(L3min,L3max, color='#cccccc', label='L3', alpha=0.5,lw=0,zorder = 0)\n",
    "#ax4 = plt.axhspan(L4min,L4max, color='#bfbfbf', label='L4', alpha=0.5,lw=0,zorder = 0)\n",
    "#ax5 = plt.axhspan(L5min,L5max, color='#b2b2b2', label='L5', alpha=0.5,lw=0,zorder = 0)\n",
    "#ax6 = plt.axhspan(L6min,L6max, color='#a6a6a6', label='L6', alpha=0.5,lw=0,zorder = 0)\n",
    "\n",
    "\n",
    "ax1v = plt.scatter(santuy_y['cells_volumes_percent'], santuy_y['y'], c=santuy_y['layer'], vmin=vmin, vmax=vmax, cmap='gist_gray', label='Layer',zorder = 1) #cmap=cmap, \n",
    "\n",
    "axTheor = plt.scatter(santuy_y['percent'], santuy_y['y'], c='red',label='Validation',zorder = 2) #cmap=cmap, \n",
    "\n",
    "\n",
    "\n",
    "plt.ylabel('Layer')\n",
    "#plt.ylabel('y (um)')\n",
    "plt.xlabel('Volume, % of full')\n",
    "\n",
    "plt.xlim([x_min - 2, x_max+2])\n",
    "plt.ylim([y_min -0.5, y_max+0.5])\n",
    "\n",
    "plt.legend(loc='center left', bbox_to_anchor=(1.5, 0.5))\n",
    "\n",
    "fig.colorbar(ax1v)\n",
    "\n",
    "plt.show()\n",
    "#fig.savefig(f'plots/mc2_volumes_percent_withSantuy_allseg_14dec2020.png',dpi=300, bbox_inches='tight', transparent=True)\n"
   ]
  },
  {
   "cell_type": "code",
   "execution_count": 15,
   "metadata": {},
   "outputs": [
    {
     "data": {
      "image/png": "[encoded data removed]",
      "text/plain": [
       "<Figure size 432x576 with 2 Axes>"
      ]
     },
     "metadata": {
      "needs_background": "light"
     },
     "output_type": "display_data"
    }
   ],
   "source": [
    "import seaborn as sns\n",
    "\n",
    "fig = plt.figure(figsize=(6, 8))\n",
    "\n",
    "\n",
    "vmin=np.min(vols_coords['layer'].tolist()) #+ l5mc_feat_mean['with_met_ATP_n'].tolist())\n",
    "vmax=np.max(vols_coords['layer'].tolist()) # + l5mc_feat_mean['with_met_ATP_n'].tolist())\n",
    "\n",
    "\n",
    "#fig, ax = plt.subplots(figsize=(6, 8))\n",
    "\n",
    "x_min = np.min(vols_coords['cells_volumes_um3'].tolist()) #mc2_cells[Cell.X].max()\n",
    "x_max = np.max(vols_coords['cells_volumes_um3'].tolist()) #mc2_cells[Cell.X].min()\n",
    "\n",
    "y_min = mc2_cells[Cell.Y].min() \n",
    "y_max = mc2_cells[Cell.Y].max()\n",
    "\n",
    "L1min = np.min(vols_coords.loc[vols_coords['layer']==1,'y'])\n",
    "L1max = np.max(vols_coords.loc[vols_coords['layer']==1,'y'])\n",
    "\n",
    "L2min = np.min(vols_coords.loc[vols_coords['layer']==2,'y'])\n",
    "L2max = np.max(vols_coords.loc[vols_coords['layer']==2,'y'])\n",
    "\n",
    "L3min = np.min(vols_coords.loc[vols_coords['layer']==3,'y'])\n",
    "L3max = np.max(vols_coords.loc[vols_coords['layer']==3,'y'])\n",
    "\n",
    "L4min = np.min(vols_coords.loc[vols_coords['layer']==4,'y'])\n",
    "L4max = np.max(vols_coords.loc[vols_coords['layer']==4,'y'])\n",
    "\n",
    "L5min = np.min(vols_coords.loc[vols_coords['layer']==5,'y'])\n",
    "L5max = np.max(vols_coords.loc[vols_coords['layer']==5,'y'])\n",
    "\n",
    "L6min = np.min(vols_coords.loc[vols_coords['layer']==6,'y'])\n",
    "L6max = np.max(vols_coords.loc[vols_coords['layer']==6,'y'])\n",
    "\n",
    "ax1 = plt.axhspan(L1min,L1max, color='#e5e5e5', label='L1', alpha=0.5,lw=0,zorder = 0)\n",
    "ax2 = plt.axhspan(L2min,L2max, color='#d8d8d8', label='L2', alpha=0.5,lw=0,zorder = 0)\n",
    "ax3 = plt.axhspan(L3min,L3max, color='#cccccc', label='L3', alpha=0.5,lw=0,zorder = 0)\n",
    "ax4 = plt.axhspan(L4min,L4max, color='#bfbfbf', label='L4', alpha=0.5,lw=0,zorder = 0)\n",
    "ax5 = plt.axhspan(L5min,L5max, color='#b2b2b2', label='L5', alpha=0.5,lw=0,zorder = 0)\n",
    "ax6 = plt.axhspan(L6min,L6max, color='#a6a6a6', label='L6', alpha=0.5,lw=0,zorder = 0)\n",
    "\n",
    "#ax1 = ax.scatter(l1[Cell.X], l1[Cell.Y], color='#e5e5e5', label='L1')\n",
    "#ax1 = ax.scatter(l2[Cell.X], l2[Cell.Y],  color='#d8d8d8', label='L2')\n",
    "#ax1 = ax.scatter(l3[Cell.X], l3[Cell.Y], color='#cccccc', label='L3')\n",
    "#ax1 = ax.scatter(l4[Cell.X], l4[Cell.Y],  color='#bfbfbf', label='L4')\n",
    "#ax1 = ax.scatter(l5[Cell.X], l5[Cell.Y],  color='#b2b2b2', label='L5')\n",
    "#ax1 = ax.scatter(l6[Cell.X], l6[Cell.Y],  color='#a6a6a6', label='L6') \n",
    "\n",
    "axv = plt.scatter(vols_coords['cells_volumes_um3'], vols_coords['y'], c=vols_coords['layer'], vmin=vmin, vmax=vmax, label='Layer',zorder = 1) #cmap=cmap, \n",
    "\n",
    "plt.ylabel('Layer')\n",
    "plt.ylabel('y (um)')\n",
    "plt.xlabel('Volume (um^3)')\n",
    "\n",
    "plt.xlim([x_min, x_max])\n",
    "plt.ylim([y_min-200, y_max+400])\n",
    "\n",
    "plt.legend(loc='center left', bbox_to_anchor=(1.5, 0.5))\n",
    "\n",
    "fig.colorbar(axv)\n",
    "plt.gca().invert_yaxis()\n",
    "\n",
    "plt.show()\n",
    "#fig.savefig(f'plots/mc2_volumes_allseg_um3_14dec2020.png',dpi=300, bbox_inches='tight', transparent=True)\n"
   ]
  },
  {
   "cell_type": "code",
   "execution_count": 10,
   "metadata": {},
   "outputs": [
    {
     "name": "stdout",
     "output_type": "stream",
     "text": [
      "/gpfs/bbp.cscs.ch/project/proj34/metabolismndam/analysis/sim_analyze\n"
     ]
    }
   ],
   "source": [
    "!pwd"
   ]
  }
 ],
 "metadata": {
  "kernelspec": {
   "display_name": "jupyter_py_venv_ood",
   "language": "python",
   "name": "jupyter_py_venv_ood"
  },
  "language_info": {
   "codemirror_mode": {
    "name": "ipython",
    "version": 3
   },
   "file_extension": ".py",
   "mimetype": "text/x-python",
   "name": "python",
   "nbconvert_exporter": "python",
   "pygments_lexer": "ipython3",
   "version": "3.7.4"
  }
 },
 "nbformat": 4,
 "nbformat_minor": 4
}
