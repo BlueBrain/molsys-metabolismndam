{
 "cells": [
  {
   "cell_type": "code",
   "execution_count": 1,
   "metadata": {},
   "outputs": [],
   "source": [
    "from bluepy.v2 import Simulation\n",
    "from bluepy.v2 import Circuit\n",
    "from bluepy.v2 import Cell\n",
    "\n",
    "#from bluepy.v2.enums import Synapse\n",
    "#from os import path\n",
    "\n",
    "import pandas as pd\n",
    "import numpy as np\n",
    "\n",
    "pd.set_option('display.max_columns', 500)\n",
    "\n",
    "c = Circuit('/gpfs/bbp.cscs.ch/project/proj64/circuits/O1.v6a/20181207/CircuitConfig')\n",
    "mc2_cells = c.cells.get({'$target': 'mc2_Column'}, properties=[Cell.ME_COMBO,Cell.SYNAPSE_CLASS,Cell.LAYER,Cell.MTYPE,Cell.ETYPE])"
   ]
  },
  {
   "cell_type": "code",
   "execution_count": 2,
   "metadata": {},
   "outputs": [],
   "source": [
    "mc2_cells = mc2_cells.reset_index()\n",
    "mc2_cells = mc2_cells.rename(columns={'index':'gid'})"
   ]
  },
  {
   "cell_type": "code",
   "execution_count": 3,
   "metadata": {},
   "outputs": [
    {
     "data": {
      "text/plain": [
       "22918"
      ]
     },
     "execution_count": 3,
     "metadata": {},
     "output_type": "execute_result"
    }
   ],
   "source": [
    "len(mc2_cells['gid'].unique())"
   ]
  },
  {
   "cell_type": "code",
   "execution_count": 4,
   "metadata": {},
   "outputs": [
    {
     "data": {
      "text/html": [
       "<div>\n",
       "<style scoped>\n",
       "    .dataframe tbody tr th:only-of-type {\n",
       "        vertical-align: middle;\n",
       "    }\n",
       "\n",
       "    .dataframe tbody tr th {\n",
       "        vertical-align: top;\n",
       "    }\n",
       "\n",
       "    .dataframe thead th {\n",
       "        text-align: right;\n",
       "    }\n",
       "</style>\n",
       "<table border=\"1\" class=\"dataframe\">\n",
       "  <thead>\n",
       "    <tr style=\"text-align: right;\">\n",
       "      <th></th>\n",
       "      <th>gid</th>\n",
       "      <th>me_combo</th>\n",
       "      <th>synapse_class</th>\n",
       "      <th>layer</th>\n",
       "      <th>mtype</th>\n",
       "      <th>etype</th>\n",
       "    </tr>\n",
       "  </thead>\n",
       "  <tbody>\n",
       "    <tr>\n",
       "      <th>0</th>\n",
       "      <td>2</td>\n",
       "      <td>cNAC_L23NGC_L1_DAC_1_sm080529a1-5_idA_-_Scale_...</td>\n",
       "      <td>INH</td>\n",
       "      <td>1</td>\n",
       "      <td>L1_DAC</td>\n",
       "      <td>cNAC</td>\n",
       "    </tr>\n",
       "    <tr>\n",
       "      <th>1</th>\n",
       "      <td>3</td>\n",
       "      <td>cNAC_L23NGC_L1_DAC_1_C270106A_-_Scale_x1.000_y...</td>\n",
       "      <td>INH</td>\n",
       "      <td>1</td>\n",
       "      <td>L1_DAC</td>\n",
       "      <td>cNAC</td>\n",
       "    </tr>\n",
       "    <tr>\n",
       "      <th>2</th>\n",
       "      <td>6</td>\n",
       "      <td>cNAC_L4CHC_L1_DAC_1_sm080723a1-4_idC_-_Scale_x...</td>\n",
       "      <td>INH</td>\n",
       "      <td>1</td>\n",
       "      <td>L1_DAC</td>\n",
       "      <td>cNAC</td>\n",
       "    </tr>\n",
       "    <tr>\n",
       "      <th>3</th>\n",
       "      <td>11</td>\n",
       "      <td>cNAC_L6NGC_L1_DAC_1_sm080723a1-4_idC</td>\n",
       "      <td>INH</td>\n",
       "      <td>1</td>\n",
       "      <td>L1_DAC</td>\n",
       "      <td>cNAC</td>\n",
       "    </tr>\n",
       "    <tr>\n",
       "      <th>4</th>\n",
       "      <td>21</td>\n",
       "      <td>bNAC_L23NGC_L1_DAC_1_sm100513a1-3_idC_-_Scale_...</td>\n",
       "      <td>INH</td>\n",
       "      <td>1</td>\n",
       "      <td>L1_DAC</td>\n",
       "      <td>bNAC</td>\n",
       "    </tr>\n",
       "  </tbody>\n",
       "</table>\n",
       "</div>"
      ],
      "text/plain": [
       "   gid                                           me_combo synapse_class  \\\n",
       "0    2  cNAC_L23NGC_L1_DAC_1_sm080529a1-5_idA_-_Scale_...           INH   \n",
       "1    3  cNAC_L23NGC_L1_DAC_1_C270106A_-_Scale_x1.000_y...           INH   \n",
       "2    6  cNAC_L4CHC_L1_DAC_1_sm080723a1-4_idC_-_Scale_x...           INH   \n",
       "3   11               cNAC_L6NGC_L1_DAC_1_sm080723a1-4_idC           INH   \n",
       "4   21  bNAC_L23NGC_L1_DAC_1_sm100513a1-3_idC_-_Scale_...           INH   \n",
       "\n",
       "   layer   mtype etype  \n",
       "0      1  L1_DAC  cNAC  \n",
       "1      1  L1_DAC  cNAC  \n",
       "2      1  L1_DAC  cNAC  \n",
       "3      1  L1_DAC  cNAC  \n",
       "4      1  L1_DAC  bNAC  "
      ]
     },
     "execution_count": 4,
     "metadata": {},
     "output_type": "execute_result"
    }
   ],
   "source": [
    "mc2_cells.head()"
   ]
  },
  {
   "cell_type": "code",
   "execution_count": 5,
   "metadata": {},
   "outputs": [],
   "source": [
    "combo_file = pd.read_csv('/gpfs/bbp.cscs.ch/project/proj34/camps/custom_neurodamus/mecombo_emodel.tsv',sep='\\t')"
   ]
  },
  {
   "cell_type": "code",
   "execution_count": 6,
   "metadata": {},
   "outputs": [
    {
     "data": {
      "text/html": [
       "<div>\n",
       "<style scoped>\n",
       "    .dataframe tbody tr th:only-of-type {\n",
       "        vertical-align: middle;\n",
       "    }\n",
       "\n",
       "    .dataframe tbody tr th {\n",
       "        vertical-align: top;\n",
       "    }\n",
       "\n",
       "    .dataframe thead th {\n",
       "        text-align: right;\n",
       "    }\n",
       "</style>\n",
       "<table border=\"1\" class=\"dataframe\">\n",
       "  <thead>\n",
       "    <tr style=\"text-align: right;\">\n",
       "      <th></th>\n",
       "      <th>morph_name</th>\n",
       "      <th>layer</th>\n",
       "      <th>fullmtype</th>\n",
       "      <th>etype</th>\n",
       "      <th>emodel</th>\n",
       "      <th>combo_name</th>\n",
       "      <th>threshold_current</th>\n",
       "      <th>holding_current</th>\n",
       "    </tr>\n",
       "  </thead>\n",
       "  <tbody>\n",
       "    <tr>\n",
       "      <th>0</th>\n",
       "      <td>C230998A-I3</td>\n",
       "      <td>2</td>\n",
       "      <td>L23_BP</td>\n",
       "      <td>bAC</td>\n",
       "      <td>bAC_L23BTC</td>\n",
       "      <td>bAC_L23BTC_L23_BP_2_C230998A-I3</td>\n",
       "      <td>0.010799</td>\n",
       "      <td>-0.009616</td>\n",
       "    </tr>\n",
       "    <tr>\n",
       "      <th>1</th>\n",
       "      <td>C230998A-I3_-_Clone_0</td>\n",
       "      <td>2</td>\n",
       "      <td>L23_BP</td>\n",
       "      <td>bAC</td>\n",
       "      <td>bAC_L23BTC</td>\n",
       "      <td>bAC_L23BTC_L23_BP_2_C230998A-I3_-_Clone_0</td>\n",
       "      <td>0.012445</td>\n",
       "      <td>-0.009974</td>\n",
       "    </tr>\n",
       "    <tr>\n",
       "      <th>2</th>\n",
       "      <td>C230998A-I3_-_Clone_1</td>\n",
       "      <td>2</td>\n",
       "      <td>L23_BP</td>\n",
       "      <td>bAC</td>\n",
       "      <td>bAC_L23BTC</td>\n",
       "      <td>bAC_L23BTC_L23_BP_2_C230998A-I3_-_Clone_1</td>\n",
       "      <td>0.010554</td>\n",
       "      <td>-0.009427</td>\n",
       "    </tr>\n",
       "    <tr>\n",
       "      <th>3</th>\n",
       "      <td>C230998A-I3_-_Clone_2</td>\n",
       "      <td>2</td>\n",
       "      <td>L23_BP</td>\n",
       "      <td>bAC</td>\n",
       "      <td>bAC_L23BTC</td>\n",
       "      <td>bAC_L23BTC_L23_BP_2_C230998A-I3_-_Clone_2</td>\n",
       "      <td>0.010911</td>\n",
       "      <td>-0.009714</td>\n",
       "    </tr>\n",
       "    <tr>\n",
       "      <th>4</th>\n",
       "      <td>C230998A-I3_-_Clone_3</td>\n",
       "      <td>2</td>\n",
       "      <td>L23_BP</td>\n",
       "      <td>bAC</td>\n",
       "      <td>bAC_L23BTC</td>\n",
       "      <td>bAC_L23BTC_L23_BP_2_C230998A-I3_-_Clone_3</td>\n",
       "      <td>0.012912</td>\n",
       "      <td>-0.010336</td>\n",
       "    </tr>\n",
       "  </tbody>\n",
       "</table>\n",
       "</div>"
      ],
      "text/plain": [
       "              morph_name  layer fullmtype etype      emodel  \\\n",
       "0            C230998A-I3      2    L23_BP   bAC  bAC_L23BTC   \n",
       "1  C230998A-I3_-_Clone_0      2    L23_BP   bAC  bAC_L23BTC   \n",
       "2  C230998A-I3_-_Clone_1      2    L23_BP   bAC  bAC_L23BTC   \n",
       "3  C230998A-I3_-_Clone_2      2    L23_BP   bAC  bAC_L23BTC   \n",
       "4  C230998A-I3_-_Clone_3      2    L23_BP   bAC  bAC_L23BTC   \n",
       "\n",
       "                                  combo_name  threshold_current  \\\n",
       "0            bAC_L23BTC_L23_BP_2_C230998A-I3           0.010799   \n",
       "1  bAC_L23BTC_L23_BP_2_C230998A-I3_-_Clone_0           0.012445   \n",
       "2  bAC_L23BTC_L23_BP_2_C230998A-I3_-_Clone_1           0.010554   \n",
       "3  bAC_L23BTC_L23_BP_2_C230998A-I3_-_Clone_2           0.010911   \n",
       "4  bAC_L23BTC_L23_BP_2_C230998A-I3_-_Clone_3           0.012912   \n",
       "\n",
       "   holding_current  \n",
       "0        -0.009616  \n",
       "1        -0.009974  \n",
       "2        -0.009427  \n",
       "3        -0.009714  \n",
       "4        -0.010336  "
      ]
     },
     "execution_count": 6,
     "metadata": {},
     "output_type": "execute_result"
    }
   ],
   "source": [
    "combo_file.head()"
   ]
  },
  {
   "cell_type": "code",
   "execution_count": 7,
   "metadata": {},
   "outputs": [],
   "source": [
    "df = pd.merge(mc2_cells, combo_file, left_on='me_combo',right_on='combo_name',how='inner')"
   ]
  },
  {
   "cell_type": "code",
   "execution_count": 8,
   "metadata": {},
   "outputs": [
    {
     "data": {
      "text/plain": [
       "22918"
      ]
     },
     "execution_count": 8,
     "metadata": {},
     "output_type": "execute_result"
    }
   ],
   "source": [
    "len(df)"
   ]
  },
  {
   "cell_type": "code",
   "execution_count": 9,
   "metadata": {},
   "outputs": [
    {
     "data": {
      "text/plain": [
       "22918"
      ]
     },
     "execution_count": 9,
     "metadata": {},
     "output_type": "execute_result"
    }
   ],
   "source": [
    "len(df['gid'].unique())"
   ]
  },
  {
   "cell_type": "code",
   "execution_count": 10,
   "metadata": {},
   "outputs": [
    {
     "data": {
      "text/html": [
       "<div>\n",
       "<style scoped>\n",
       "    .dataframe tbody tr th:only-of-type {\n",
       "        vertical-align: middle;\n",
       "    }\n",
       "\n",
       "    .dataframe tbody tr th {\n",
       "        vertical-align: top;\n",
       "    }\n",
       "\n",
       "    .dataframe thead th {\n",
       "        text-align: right;\n",
       "    }\n",
       "</style>\n",
       "<table border=\"1\" class=\"dataframe\">\n",
       "  <thead>\n",
       "    <tr style=\"text-align: right;\">\n",
       "      <th></th>\n",
       "      <th>gid</th>\n",
       "      <th>me_combo</th>\n",
       "      <th>synapse_class</th>\n",
       "      <th>layer_x</th>\n",
       "      <th>mtype</th>\n",
       "      <th>etype_x</th>\n",
       "      <th>morph_name</th>\n",
       "      <th>layer_y</th>\n",
       "      <th>fullmtype</th>\n",
       "      <th>etype_y</th>\n",
       "      <th>emodel</th>\n",
       "      <th>combo_name</th>\n",
       "      <th>threshold_current</th>\n",
       "      <th>holding_current</th>\n",
       "    </tr>\n",
       "  </thead>\n",
       "  <tbody>\n",
       "    <tr>\n",
       "      <th>0</th>\n",
       "      <td>2</td>\n",
       "      <td>cNAC_L23NGC_L1_DAC_1_sm080529a1-5_idA_-_Scale_...</td>\n",
       "      <td>INH</td>\n",
       "      <td>1</td>\n",
       "      <td>L1_DAC</td>\n",
       "      <td>cNAC</td>\n",
       "      <td>sm080529a1-5_idA_-_Scale_x1.000_y0.950_z1.000</td>\n",
       "      <td>1</td>\n",
       "      <td>L1_DAC</td>\n",
       "      <td>cNAC</td>\n",
       "      <td>cNAC_L23NGC</td>\n",
       "      <td>cNAC_L23NGC_L1_DAC_1_sm080529a1-5_idA_-_Scale_...</td>\n",
       "      <td>0.083389</td>\n",
       "      <td>-0.049929</td>\n",
       "    </tr>\n",
       "    <tr>\n",
       "      <th>1</th>\n",
       "      <td>3</td>\n",
       "      <td>cNAC_L23NGC_L1_DAC_1_C270106A_-_Scale_x1.000_y...</td>\n",
       "      <td>INH</td>\n",
       "      <td>1</td>\n",
       "      <td>L1_DAC</td>\n",
       "      <td>cNAC</td>\n",
       "      <td>C270106A_-_Scale_x1.000_y0.950_z1.000</td>\n",
       "      <td>1</td>\n",
       "      <td>L1_DAC</td>\n",
       "      <td>cNAC</td>\n",
       "      <td>cNAC_L23NGC</td>\n",
       "      <td>cNAC_L23NGC_L1_DAC_1_C270106A_-_Scale_x1.000_y...</td>\n",
       "      <td>0.085567</td>\n",
       "      <td>-0.051370</td>\n",
       "    </tr>\n",
       "    <tr>\n",
       "      <th>2</th>\n",
       "      <td>6</td>\n",
       "      <td>cNAC_L4CHC_L1_DAC_1_sm080723a1-4_idC_-_Scale_x...</td>\n",
       "      <td>INH</td>\n",
       "      <td>1</td>\n",
       "      <td>L1_DAC</td>\n",
       "      <td>cNAC</td>\n",
       "      <td>sm080723a1-4_idC_-_Scale_x1.000_y1.025_z1.000</td>\n",
       "      <td>1</td>\n",
       "      <td>L1_DAC</td>\n",
       "      <td>cNAC</td>\n",
       "      <td>cNAC_L4CHC</td>\n",
       "      <td>cNAC_L4CHC_L1_DAC_1_sm080723a1-4_idC_-_Scale_x...</td>\n",
       "      <td>0.026455</td>\n",
       "      <td>-0.018548</td>\n",
       "    </tr>\n",
       "    <tr>\n",
       "      <th>3</th>\n",
       "      <td>11</td>\n",
       "      <td>cNAC_L6NGC_L1_DAC_1_sm080723a1-4_idC</td>\n",
       "      <td>INH</td>\n",
       "      <td>1</td>\n",
       "      <td>L1_DAC</td>\n",
       "      <td>cNAC</td>\n",
       "      <td>sm080723a1-4_idC</td>\n",
       "      <td>1</td>\n",
       "      <td>L1_DAC</td>\n",
       "      <td>cNAC</td>\n",
       "      <td>cNAC_L6NGC</td>\n",
       "      <td>cNAC_L6NGC_L1_DAC_1_sm080723a1-4_idC</td>\n",
       "      <td>0.077697</td>\n",
       "      <td>-0.046846</td>\n",
       "    </tr>\n",
       "    <tr>\n",
       "      <th>4</th>\n",
       "      <td>21</td>\n",
       "      <td>bNAC_L23NGC_L1_DAC_1_sm100513a1-3_idC_-_Scale_...</td>\n",
       "      <td>INH</td>\n",
       "      <td>1</td>\n",
       "      <td>L1_DAC</td>\n",
       "      <td>bNAC</td>\n",
       "      <td>sm100513a1-3_idC_-_Scale_x1.000_y1.025_z1.000</td>\n",
       "      <td>1</td>\n",
       "      <td>L1_DAC</td>\n",
       "      <td>bNAC</td>\n",
       "      <td>bNAC_L23NGC</td>\n",
       "      <td>bNAC_L23NGC_L1_DAC_1_sm100513a1-3_idC_-_Scale_...</td>\n",
       "      <td>0.069219</td>\n",
       "      <td>-0.049501</td>\n",
       "    </tr>\n",
       "  </tbody>\n",
       "</table>\n",
       "</div>"
      ],
      "text/plain": [
       "   gid                                           me_combo synapse_class  \\\n",
       "0    2  cNAC_L23NGC_L1_DAC_1_sm080529a1-5_idA_-_Scale_...           INH   \n",
       "1    3  cNAC_L23NGC_L1_DAC_1_C270106A_-_Scale_x1.000_y...           INH   \n",
       "2    6  cNAC_L4CHC_L1_DAC_1_sm080723a1-4_idC_-_Scale_x...           INH   \n",
       "3   11               cNAC_L6NGC_L1_DAC_1_sm080723a1-4_idC           INH   \n",
       "4   21  bNAC_L23NGC_L1_DAC_1_sm100513a1-3_idC_-_Scale_...           INH   \n",
       "\n",
       "   layer_x   mtype etype_x                                     morph_name  \\\n",
       "0        1  L1_DAC    cNAC  sm080529a1-5_idA_-_Scale_x1.000_y0.950_z1.000   \n",
       "1        1  L1_DAC    cNAC          C270106A_-_Scale_x1.000_y0.950_z1.000   \n",
       "2        1  L1_DAC    cNAC  sm080723a1-4_idC_-_Scale_x1.000_y1.025_z1.000   \n",
       "3        1  L1_DAC    cNAC                               sm080723a1-4_idC   \n",
       "4        1  L1_DAC    bNAC  sm100513a1-3_idC_-_Scale_x1.000_y1.025_z1.000   \n",
       "\n",
       "   layer_y fullmtype etype_y       emodel  \\\n",
       "0        1    L1_DAC    cNAC  cNAC_L23NGC   \n",
       "1        1    L1_DAC    cNAC  cNAC_L23NGC   \n",
       "2        1    L1_DAC    cNAC   cNAC_L4CHC   \n",
       "3        1    L1_DAC    cNAC   cNAC_L6NGC   \n",
       "4        1    L1_DAC    bNAC  bNAC_L23NGC   \n",
       "\n",
       "                                          combo_name  threshold_current  \\\n",
       "0  cNAC_L23NGC_L1_DAC_1_sm080529a1-5_idA_-_Scale_...           0.083389   \n",
       "1  cNAC_L23NGC_L1_DAC_1_C270106A_-_Scale_x1.000_y...           0.085567   \n",
       "2  cNAC_L4CHC_L1_DAC_1_sm080723a1-4_idC_-_Scale_x...           0.026455   \n",
       "3               cNAC_L6NGC_L1_DAC_1_sm080723a1-4_idC           0.077697   \n",
       "4  bNAC_L23NGC_L1_DAC_1_sm100513a1-3_idC_-_Scale_...           0.069219   \n",
       "\n",
       "   holding_current  \n",
       "0        -0.049929  \n",
       "1        -0.051370  \n",
       "2        -0.018548  \n",
       "3        -0.046846  \n",
       "4        -0.049501  "
      ]
     },
     "execution_count": 10,
     "metadata": {},
     "output_type": "execute_result"
    }
   ],
   "source": [
    "df.head()"
   ]
  },
  {
   "cell_type": "code",
   "execution_count": 11,
   "metadata": {},
   "outputs": [],
   "source": [
    "from os import listdir\n",
    "from os.path import isfile, join\n",
    "\n",
    "emodels_path = \"/gpfs/bbp.cscs.ch/project/proj34/camps/custom_neurodamus/emodels_dend\"\n",
    "\n",
    "emodels_dend_f = [f for f in listdir(emodels_path) if isfile(join(emodels_path, f))]"
   ]
  },
  {
   "cell_type": "code",
   "execution_count": 12,
   "metadata": {},
   "outputs": [],
   "source": [
    "emodels_dend = [f.replace('.hoc','') for f in emodels_dend_f]"
   ]
  },
  {
   "cell_type": "code",
   "execution_count": 13,
   "metadata": {},
   "outputs": [
    {
     "data": {
      "text/plain": [
       "['cIR_L4DBC',\n",
       " 'dSTUT_L4BP',\n",
       " 'cADpyr_L6UPC',\n",
       " 'bIR_L4BTC',\n",
       " 'bSTUT_L5NBC',\n",
       " 'bIR_L23BP',\n",
       " 'cNAC_L23NGC',\n",
       " 'cNAC_L23BTC',\n",
       " 'cSTUT_L6NGC',\n",
       " 'dSTUT_L5BP',\n",
       " 'cADpyr_L6HPC',\n",
       " 'bIR_L5DBC',\n",
       " 'dSTUT_L2SBC',\n",
       " 'cADpyr_L2TPC',\n",
       " 'bIR_L5BP',\n",
       " 'cACint_L23MC',\n",
       " 'cADpyr_L4UPC',\n",
       " 'bIR_L4DBC',\n",
       " 'cIR_L5DBC',\n",
       " 'cSTUT_L5NBC',\n",
       " 'bAC_L23BTC',\n",
       " 'cADpyr_L6IPC',\n",
       " 'bIR_L23BTC',\n",
       " 'dSTUT_L23BP',\n",
       " 'cNAC_L4CHC',\n",
       " 'cADpyr_L4TPC',\n",
       " 'cADpyr_L3TPC',\n",
       " 'cADpyr_L2IPC',\n",
       " 'cADpyr_L5TPC',\n",
       " 'cACint_L4CHC',\n",
       " 'bNAC_L23NGC',\n",
       " 'bNAC_L23SBC',\n",
       " 'cNAC_L6NGC',\n",
       " 'bAC_L6BTC',\n",
       " 'cNAC_L6BTC',\n",
       " 'bIR_L4BP',\n",
       " 'cIR_L2SBC',\n",
       " 'cADpyr_L6BPC',\n",
       " 'cSTUT_L23NGC',\n",
       " 'dNAC_L23SBC']"
      ]
     },
     "execution_count": 13,
     "metadata": {},
     "output_type": "execute_result"
    }
   ],
   "source": [
    "emodels_dend"
   ]
  },
  {
   "cell_type": "code",
   "execution_count": 14,
   "metadata": {},
   "outputs": [
    {
     "data": {
      "text/plain": [
       "40"
      ]
     },
     "execution_count": 14,
     "metadata": {},
     "output_type": "execute_result"
    }
   ],
   "source": [
    "len(emodels_dend)"
   ]
  },
  {
   "cell_type": "code",
   "execution_count": 15,
   "metadata": {},
   "outputs": [
    {
     "data": {
      "text/html": [
       "<div>\n",
       "<style scoped>\n",
       "    .dataframe tbody tr th:only-of-type {\n",
       "        vertical-align: middle;\n",
       "    }\n",
       "\n",
       "    .dataframe tbody tr th {\n",
       "        vertical-align: top;\n",
       "    }\n",
       "\n",
       "    .dataframe thead th {\n",
       "        text-align: right;\n",
       "    }\n",
       "</style>\n",
       "<table border=\"1\" class=\"dataframe\">\n",
       "  <thead>\n",
       "    <tr style=\"text-align: right;\">\n",
       "      <th></th>\n",
       "      <th>gid</th>\n",
       "      <th>me_combo</th>\n",
       "      <th>synapse_class</th>\n",
       "      <th>layer_x</th>\n",
       "      <th>mtype</th>\n",
       "      <th>etype_x</th>\n",
       "      <th>morph_name</th>\n",
       "      <th>layer_y</th>\n",
       "      <th>fullmtype</th>\n",
       "      <th>etype_y</th>\n",
       "      <th>emodel</th>\n",
       "      <th>combo_name</th>\n",
       "      <th>threshold_current</th>\n",
       "      <th>holding_current</th>\n",
       "    </tr>\n",
       "  </thead>\n",
       "  <tbody>\n",
       "  </tbody>\n",
       "</table>\n",
       "</div>"
      ],
      "text/plain": [
       "Empty DataFrame\n",
       "Columns: [gid, me_combo, synapse_class, layer_x, mtype, etype_x, morph_name, layer_y, fullmtype, etype_y, emodel, combo_name, threshold_current, holding_current]\n",
       "Index: []"
      ]
     },
     "execution_count": 15,
     "metadata": {},
     "output_type": "execute_result"
    }
   ],
   "source": [
    "df.loc[~df['emodel'].isin(emodels_dend)].head()"
   ]
  },
  {
   "cell_type": "code",
   "execution_count": 16,
   "metadata": {},
   "outputs": [
    {
     "data": {
      "text/plain": [
       "[]"
      ]
     },
     "execution_count": 16,
     "metadata": {},
     "output_type": "execute_result"
    }
   ],
   "source": [
    "[em for em in emodels_dend if em not in combo_file['emodel'].unique()]"
   ]
  },
  {
   "cell_type": "code",
   "execution_count": 17,
   "metadata": {},
   "outputs": [
    {
     "data": {
      "text/plain": [
       "['cIR_L4DBC.hoc',\n",
       " 'dSTUT_L4BP.hoc',\n",
       " 'cADpyr_L6UPC.hoc',\n",
       " 'bIR_L4BTC.hoc',\n",
       " 'bSTUT_L5NBC.hoc',\n",
       " 'bIR_L23BP.hoc',\n",
       " 'cNAC_L23NGC.hoc',\n",
       " 'cNAC_L23BTC.hoc',\n",
       " 'cSTUT_L6NGC.hoc',\n",
       " 'dSTUT_L5BP.hoc',\n",
       " 'cADpyr_L6HPC.hoc',\n",
       " 'bIR_L5DBC.hoc',\n",
       " 'dSTUT_L2SBC.hoc',\n",
       " 'cADpyr_L2TPC.hoc',\n",
       " 'bIR_L5BP.hoc',\n",
       " 'cACint_L23MC.hoc',\n",
       " 'cADpyr_L4UPC.hoc',\n",
       " 'bIR_L4DBC.hoc',\n",
       " 'cIR_L5DBC.hoc',\n",
       " 'cSTUT_L5NBC.hoc',\n",
       " 'bAC_L23BTC.hoc',\n",
       " 'cADpyr_L6IPC.hoc',\n",
       " 'bIR_L23BTC.hoc',\n",
       " 'dSTUT_L23BP.hoc',\n",
       " 'cNAC_L4CHC.hoc',\n",
       " 'cADpyr_L4TPC.hoc',\n",
       " 'cADpyr_L3TPC.hoc',\n",
       " 'cADpyr_L2IPC.hoc',\n",
       " 'cADpyr_L5TPC.hoc',\n",
       " 'cACint_L4CHC.hoc',\n",
       " 'bNAC_L23NGC.hoc',\n",
       " 'bNAC_L23SBC.hoc',\n",
       " 'cNAC_L6NGC.hoc',\n",
       " 'bAC_L6BTC.hoc',\n",
       " 'cNAC_L6BTC.hoc',\n",
       " 'bIR_L4BP.hoc',\n",
       " 'cIR_L2SBC.hoc',\n",
       " 'cADpyr_L6BPC.hoc',\n",
       " 'cSTUT_L23NGC.hoc',\n",
       " 'dNAC_L23SBC.hoc']"
      ]
     },
     "execution_count": 17,
     "metadata": {},
     "output_type": "execute_result"
    }
   ],
   "source": [
    "emodels_dend_f"
   ]
  },
  {
   "cell_type": "code",
   "execution_count": 14,
   "metadata": {},
   "outputs": [],
   "source": [
    "import re"
   ]
  },
  {
   "cell_type": "code",
   "execution_count": 15,
   "metadata": {},
   "outputs": [],
   "source": [
    "def grep_files(filepath, regex):\n",
    "    regObj = re.compile(regex)\n",
    "    res = []\n",
    "    with open(filepath) as f:\n",
    "        for line in f:\n",
    "            if regObj.search(line):\n",
    "                \n",
    "                res.append(regObj.search(line).group(2)) # to extract voltage value\n",
    "    return res"
   ]
  },
  {
   "cell_type": "code",
   "execution_count": 16,
   "metadata": {},
   "outputs": [
    {
     "data": {
      "text/plain": [
       "['-65']"
      ]
     },
     "execution_count": 16,
     "metadata": {},
     "output_type": "execute_result"
    }
   ],
   "source": [
    "grep_files(emodels_path+\"/\"+emodels_dend_f[0],\"v\\(1\\)(.*)\\=\\s(.*)\\n\")"
   ]
  },
  {
   "cell_type": "code",
   "execution_count": 17,
   "metadata": {},
   "outputs": [],
   "source": [
    "voltage_regex = \"v\\(1\\)(.*)\\=\\s(.*)\\n\"\n",
    "\n",
    "voltage_from_hoc = {}\n",
    "\n",
    "for emodel in emodels_dend:\n",
    "    #print(emodels_path+\"/\"+emodel+'.hoc')\n",
    "    voltage_from_hoc[emodel] = float(grep_files(emodels_path+\"/\"+emodel+'.hoc',voltage_regex)[0])"
   ]
  },
  {
   "cell_type": "code",
   "execution_count": 18,
   "metadata": {},
   "outputs": [],
   "source": [
    "voltage_from_hoc_df = pd.DataFrame(voltage_from_hoc.items())"
   ]
  },
  {
   "cell_type": "code",
   "execution_count": 19,
   "metadata": {},
   "outputs": [],
   "source": [
    "voltage_from_hoc_df.columns = ['emodel','voltage_from_hoc']"
   ]
  },
  {
   "cell_type": "code",
   "execution_count": 20,
   "metadata": {},
   "outputs": [
    {
     "data": {
      "text/html": [
       "<div>\n",
       "<style scoped>\n",
       "    .dataframe tbody tr th:only-of-type {\n",
       "        vertical-align: middle;\n",
       "    }\n",
       "\n",
       "    .dataframe tbody tr th {\n",
       "        vertical-align: top;\n",
       "    }\n",
       "\n",
       "    .dataframe thead th {\n",
       "        text-align: right;\n",
       "    }\n",
       "</style>\n",
       "<table border=\"1\" class=\"dataframe\">\n",
       "  <thead>\n",
       "    <tr style=\"text-align: right;\">\n",
       "      <th></th>\n",
       "      <th>emodel</th>\n",
       "      <th>voltage_from_hoc</th>\n",
       "    </tr>\n",
       "  </thead>\n",
       "  <tbody>\n",
       "    <tr>\n",
       "      <th>0</th>\n",
       "      <td>cIR_L4DBC</td>\n",
       "      <td>-65.0</td>\n",
       "    </tr>\n",
       "    <tr>\n",
       "      <th>1</th>\n",
       "      <td>dSTUT_L4BP</td>\n",
       "      <td>-72.0</td>\n",
       "    </tr>\n",
       "    <tr>\n",
       "      <th>2</th>\n",
       "      <td>cADpyr_L6UPC</td>\n",
       "      <td>-72.0</td>\n",
       "    </tr>\n",
       "    <tr>\n",
       "      <th>3</th>\n",
       "      <td>bIR_L4BTC</td>\n",
       "      <td>-65.0</td>\n",
       "    </tr>\n",
       "    <tr>\n",
       "      <th>4</th>\n",
       "      <td>bSTUT_L5NBC</td>\n",
       "      <td>-65.0</td>\n",
       "    </tr>\n",
       "  </tbody>\n",
       "</table>\n",
       "</div>"
      ],
      "text/plain": [
       "         emodel  voltage_from_hoc\n",
       "0     cIR_L4DBC             -65.0\n",
       "1    dSTUT_L4BP             -72.0\n",
       "2  cADpyr_L6UPC             -72.0\n",
       "3     bIR_L4BTC             -65.0\n",
       "4   bSTUT_L5NBC             -65.0"
      ]
     },
     "execution_count": 20,
     "metadata": {},
     "output_type": "execute_result"
    }
   ],
   "source": [
    "voltage_from_hoc_df.head()"
   ]
  },
  {
   "cell_type": "code",
   "execution_count": 21,
   "metadata": {},
   "outputs": [
    {
     "data": {
      "text/plain": [
       "array(['cIR_L4DBC', 'dSTUT_L4BP', 'cADpyr_L6UPC', 'bIR_L4BTC',\n",
       "       'bSTUT_L5NBC', 'bIR_L23BP', 'cNAC_L23NGC', 'cNAC_L23BTC',\n",
       "       'cSTUT_L6NGC', 'dSTUT_L5BP', 'cADpyr_L6HPC', 'bIR_L5DBC',\n",
       "       'dSTUT_L2SBC', 'cADpyr_L2TPC', 'bIR_L5BP', 'cACint_L23MC',\n",
       "       'cADpyr_L4UPC', 'bIR_L4DBC', 'cIR_L5DBC', 'cSTUT_L5NBC',\n",
       "       'bAC_L23BTC', 'cADpyr_L6IPC', 'bIR_L23BTC', 'dSTUT_L23BP',\n",
       "       'cNAC_L4CHC', 'cADpyr_L4TPC', 'cADpyr_L3TPC', 'cADpyr_L2IPC',\n",
       "       'cADpyr_L5TPC', 'cACint_L4CHC', 'bNAC_L23NGC', 'bNAC_L23SBC',\n",
       "       'cNAC_L6NGC', 'bAC_L6BTC', 'cNAC_L6BTC', 'bIR_L4BP', 'cIR_L2SBC',\n",
       "       'cADpyr_L6BPC', 'cSTUT_L23NGC', 'dNAC_L23SBC'], dtype=object)"
      ]
     },
     "execution_count": 21,
     "metadata": {},
     "output_type": "execute_result"
    }
   ],
   "source": [
    "voltage_from_hoc_df['emodel'].unique()"
   ]
  },
  {
   "cell_type": "code",
   "execution_count": 23,
   "metadata": {},
   "outputs": [
    {
     "data": {
      "text/html": [
       "<div>\n",
       "<style scoped>\n",
       "    .dataframe tbody tr th:only-of-type {\n",
       "        vertical-align: middle;\n",
       "    }\n",
       "\n",
       "    .dataframe tbody tr th {\n",
       "        vertical-align: top;\n",
       "    }\n",
       "\n",
       "    .dataframe thead th {\n",
       "        text-align: right;\n",
       "    }\n",
       "</style>\n",
       "<table border=\"1\" class=\"dataframe\">\n",
       "  <thead>\n",
       "    <tr style=\"text-align: right;\">\n",
       "      <th></th>\n",
       "      <th>emodel</th>\n",
       "      <th>voltage_from_hoc</th>\n",
       "    </tr>\n",
       "  </thead>\n",
       "  <tbody>\n",
       "    <tr>\n",
       "      <th>2</th>\n",
       "      <td>cADpyr_L6UPC</td>\n",
       "      <td>-72.0</td>\n",
       "    </tr>\n",
       "    <tr>\n",
       "      <th>10</th>\n",
       "      <td>cADpyr_L6HPC</td>\n",
       "      <td>-72.0</td>\n",
       "    </tr>\n",
       "    <tr>\n",
       "      <th>13</th>\n",
       "      <td>cADpyr_L2TPC</td>\n",
       "      <td>-80.0</td>\n",
       "    </tr>\n",
       "    <tr>\n",
       "      <th>16</th>\n",
       "      <td>cADpyr_L4UPC</td>\n",
       "      <td>-72.0</td>\n",
       "    </tr>\n",
       "    <tr>\n",
       "      <th>21</th>\n",
       "      <td>cADpyr_L6IPC</td>\n",
       "      <td>-72.0</td>\n",
       "    </tr>\n",
       "    <tr>\n",
       "      <th>25</th>\n",
       "      <td>cADpyr_L4TPC</td>\n",
       "      <td>-72.0</td>\n",
       "    </tr>\n",
       "    <tr>\n",
       "      <th>26</th>\n",
       "      <td>cADpyr_L3TPC</td>\n",
       "      <td>-80.0</td>\n",
       "    </tr>\n",
       "    <tr>\n",
       "      <th>27</th>\n",
       "      <td>cADpyr_L2IPC</td>\n",
       "      <td>-80.0</td>\n",
       "    </tr>\n",
       "    <tr>\n",
       "      <th>28</th>\n",
       "      <td>cADpyr_L5TPC</td>\n",
       "      <td>-72.0</td>\n",
       "    </tr>\n",
       "    <tr>\n",
       "      <th>37</th>\n",
       "      <td>cADpyr_L6BPC</td>\n",
       "      <td>-72.0</td>\n",
       "    </tr>\n",
       "  </tbody>\n",
       "</table>\n",
       "</div>"
      ],
      "text/plain": [
       "          emodel  voltage_from_hoc\n",
       "2   cADpyr_L6UPC             -72.0\n",
       "10  cADpyr_L6HPC             -72.0\n",
       "13  cADpyr_L2TPC             -80.0\n",
       "16  cADpyr_L4UPC             -72.0\n",
       "21  cADpyr_L6IPC             -72.0\n",
       "25  cADpyr_L4TPC             -72.0\n",
       "26  cADpyr_L3TPC             -80.0\n",
       "27  cADpyr_L2IPC             -80.0\n",
       "28  cADpyr_L5TPC             -72.0\n",
       "37  cADpyr_L6BPC             -72.0"
      ]
     },
     "execution_count": 23,
     "metadata": {},
     "output_type": "execute_result"
    }
   ],
   "source": [
    "voltage_from_hoc_df.loc[voltage_from_hoc_df['emodel'].str.contains('cADpyr')]"
   ]
  },
  {
   "cell_type": "code",
   "execution_count": null,
   "metadata": {},
   "outputs": [],
   "source": []
  },
  {
   "cell_type": "code",
   "execution_count": 60,
   "metadata": {},
   "outputs": [],
   "source": [
    "df = pd.merge(df, voltage_from_hoc_df, left_on='emodel', right_on='emodel', how='inner')"
   ]
  },
  {
   "cell_type": "code",
   "execution_count": 62,
   "metadata": {},
   "outputs": [
    {
     "data": {
      "text/plain": [
       "22918"
      ]
     },
     "execution_count": 62,
     "metadata": {},
     "output_type": "execute_result"
    }
   ],
   "source": [
    "len(df['gid'].unique())"
   ]
  },
  {
   "cell_type": "code",
   "execution_count": 66,
   "metadata": {},
   "outputs": [
    {
     "data": {
      "text/plain": [
       "0"
      ]
     },
     "execution_count": 66,
     "metadata": {},
     "output_type": "execute_result"
    }
   ],
   "source": [
    "len(df.loc[df['gid'].isna(),'gid'].unique())"
   ]
  },
  {
   "cell_type": "code",
   "execution_count": 70,
   "metadata": {},
   "outputs": [
    {
     "data": {
      "text/plain": [
       "-60.0"
      ]
     },
     "execution_count": 70,
     "metadata": {},
     "output_type": "execute_result"
    }
   ],
   "source": [
    "np.max(df['voltage_from_hoc'])"
   ]
  },
  {
   "cell_type": "code",
   "execution_count": 72,
   "metadata": {},
   "outputs": [],
   "source": [
    "df2 = df[['gid','voltage_from_hoc']].copy()"
   ]
  },
  {
   "cell_type": "code",
   "execution_count": 73,
   "metadata": {},
   "outputs": [
    {
     "data": {
      "text/plain": [
       "22918"
      ]
     },
     "execution_count": 73,
     "metadata": {},
     "output_type": "execute_result"
    }
   ],
   "source": [
    "len(df2)"
   ]
  },
  {
   "cell_type": "code",
   "execution_count": 74,
   "metadata": {},
   "outputs": [
    {
     "data": {
      "text/plain": [
       "22918"
      ]
     },
     "execution_count": 74,
     "metadata": {},
     "output_type": "execute_result"
    }
   ],
   "source": [
    "len(df2['gid'].unique())"
   ]
  },
  {
   "cell_type": "code",
   "execution_count": 76,
   "metadata": {},
   "outputs": [],
   "source": [
    "out_file_name = \"/gpfs/bbp.cscs.ch/project/proj34/metabolismndam/in_data/voltages_per_gid.txt\"\n",
    "\n",
    "df2.to_csv(out_file_name, sep='\\t',header=None,index=False)"
   ]
  },
  {
   "cell_type": "code",
   "execution_count": 77,
   "metadata": {},
   "outputs": [
    {
     "data": {
      "text/html": [
       "<div>\n",
       "<style scoped>\n",
       "    .dataframe tbody tr th:only-of-type {\n",
       "        vertical-align: middle;\n",
       "    }\n",
       "\n",
       "    .dataframe tbody tr th {\n",
       "        vertical-align: top;\n",
       "    }\n",
       "\n",
       "    .dataframe thead th {\n",
       "        text-align: right;\n",
       "    }\n",
       "</style>\n",
       "<table border=\"1\" class=\"dataframe\">\n",
       "  <thead>\n",
       "    <tr style=\"text-align: right;\">\n",
       "      <th></th>\n",
       "      <th>gid</th>\n",
       "      <th>voltage_from_hoc</th>\n",
       "    </tr>\n",
       "  </thead>\n",
       "  <tbody>\n",
       "    <tr>\n",
       "      <th>0</th>\n",
       "      <td>2</td>\n",
       "      <td>-72.0</td>\n",
       "    </tr>\n",
       "    <tr>\n",
       "      <th>1</th>\n",
       "      <td>3</td>\n",
       "      <td>-72.0</td>\n",
       "    </tr>\n",
       "    <tr>\n",
       "      <th>2</th>\n",
       "      <td>48</td>\n",
       "      <td>-72.0</td>\n",
       "    </tr>\n",
       "    <tr>\n",
       "      <th>3</th>\n",
       "      <td>103</td>\n",
       "      <td>-72.0</td>\n",
       "    </tr>\n",
       "    <tr>\n",
       "      <th>4</th>\n",
       "      <td>131</td>\n",
       "      <td>-72.0</td>\n",
       "    </tr>\n",
       "  </tbody>\n",
       "</table>\n",
       "</div>"
      ],
      "text/plain": [
       "   gid  voltage_from_hoc\n",
       "0    2             -72.0\n",
       "1    3             -72.0\n",
       "2   48             -72.0\n",
       "3  103             -72.0\n",
       "4  131             -72.0"
      ]
     },
     "execution_count": 77,
     "metadata": {},
     "output_type": "execute_result"
    }
   ],
   "source": [
    "df2.head()"
   ]
  },
  {
   "cell_type": "code",
   "execution_count": 83,
   "metadata": {},
   "outputs": [],
   "source": [
    "voltages_f = pd.read_csv(\"/gpfs/bbp.cscs.ch/project/proj34/metabolismndam/in_data/voltages_per_gid.txt\",header=None,sep='\\t')"
   ]
  },
  {
   "cell_type": "code",
   "execution_count": 84,
   "metadata": {},
   "outputs": [
    {
     "data": {
      "text/html": [
       "<div>\n",
       "<style scoped>\n",
       "    .dataframe tbody tr th:only-of-type {\n",
       "        vertical-align: middle;\n",
       "    }\n",
       "\n",
       "    .dataframe tbody tr th {\n",
       "        vertical-align: top;\n",
       "    }\n",
       "\n",
       "    .dataframe thead th {\n",
       "        text-align: right;\n",
       "    }\n",
       "</style>\n",
       "<table border=\"1\" class=\"dataframe\">\n",
       "  <thead>\n",
       "    <tr style=\"text-align: right;\">\n",
       "      <th></th>\n",
       "      <th>0</th>\n",
       "      <th>1</th>\n",
       "    </tr>\n",
       "  </thead>\n",
       "  <tbody>\n",
       "    <tr>\n",
       "      <th>0</th>\n",
       "      <td>2</td>\n",
       "      <td>-72.0</td>\n",
       "    </tr>\n",
       "    <tr>\n",
       "      <th>1</th>\n",
       "      <td>3</td>\n",
       "      <td>-72.0</td>\n",
       "    </tr>\n",
       "    <tr>\n",
       "      <th>2</th>\n",
       "      <td>48</td>\n",
       "      <td>-72.0</td>\n",
       "    </tr>\n",
       "    <tr>\n",
       "      <th>3</th>\n",
       "      <td>103</td>\n",
       "      <td>-72.0</td>\n",
       "    </tr>\n",
       "    <tr>\n",
       "      <th>4</th>\n",
       "      <td>131</td>\n",
       "      <td>-72.0</td>\n",
       "    </tr>\n",
       "    <tr>\n",
       "      <th>...</th>\n",
       "      <td>...</td>\n",
       "      <td>...</td>\n",
       "    </tr>\n",
       "    <tr>\n",
       "      <th>22913</th>\n",
       "      <td>162105</td>\n",
       "      <td>-72.0</td>\n",
       "    </tr>\n",
       "    <tr>\n",
       "      <th>22914</th>\n",
       "      <td>162110</td>\n",
       "      <td>-72.0</td>\n",
       "    </tr>\n",
       "    <tr>\n",
       "      <th>22915</th>\n",
       "      <td>162113</td>\n",
       "      <td>-72.0</td>\n",
       "    </tr>\n",
       "    <tr>\n",
       "      <th>22916</th>\n",
       "      <td>162119</td>\n",
       "      <td>-72.0</td>\n",
       "    </tr>\n",
       "    <tr>\n",
       "      <th>22917</th>\n",
       "      <td>162133</td>\n",
       "      <td>-72.0</td>\n",
       "    </tr>\n",
       "  </tbody>\n",
       "</table>\n",
       "<p>22918 rows × 2 columns</p>\n",
       "</div>"
      ],
      "text/plain": [
       "            0     1\n",
       "0           2 -72.0\n",
       "1           3 -72.0\n",
       "2          48 -72.0\n",
       "3         103 -72.0\n",
       "4         131 -72.0\n",
       "...       ...   ...\n",
       "22913  162105 -72.0\n",
       "22914  162110 -72.0\n",
       "22915  162113 -72.0\n",
       "22916  162119 -72.0\n",
       "22917  162133 -72.0\n",
       "\n",
       "[22918 rows x 2 columns]"
      ]
     },
     "execution_count": 84,
     "metadata": {},
     "output_type": "execute_result"
    }
   ],
   "source": [
    "voltages_f"
   ]
  },
  {
   "cell_type": "code",
   "execution_count": 85,
   "metadata": {},
   "outputs": [],
   "source": [
    "with open(\"/gpfs/bbp.cscs.ch/project/proj34/metabolismndam/in_data/voltages_per_gid.txt\",'r') as infile:\n",
    "    voltages_l = infile.readlines()\n",
    "\n",
    "voltages_per_gids = {}\n",
    "\n",
    "for line in voltages_l:\n",
    "    idx,v = line.split(\"\\t\")\n",
    "    voltages_per_gids[int(idx)] = float(v)"
   ]
  },
  {
   "cell_type": "code",
   "execution_count": 89,
   "metadata": {},
   "outputs": [
    {
     "data": {
      "text/plain": [
       "-72.0"
      ]
     },
     "execution_count": 89,
     "metadata": {},
     "output_type": "execute_result"
    }
   ],
   "source": [
    "voltages_per_gids[2]"
   ]
  },
  {
   "cell_type": "code",
   "execution_count": null,
   "metadata": {},
   "outputs": [],
   "source": []
  }
 ],
 "metadata": {
  "kernelspec": {
   "display_name": "Python 3",
   "language": "python",
   "name": "python3"
  },
  "language_info": {
   "codemirror_mode": {
    "name": "ipython",
    "version": 3
   },
   "file_extension": ".py",
   "mimetype": "text/x-python",
   "name": "python",
   "nbconvert_exporter": "python",
   "pygments_lexer": "ipython3",
   "version": "3.7.4"
  }
 },
 "nbformat": 4,
 "nbformat_minor": 4
}
